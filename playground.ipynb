{
 "cells": [
  {
   "cell_type": "code",
   "execution_count": 15,
   "metadata": {},
   "outputs": [],
   "source": [
    "import argparse\n",
    "import json\n",
    "import os\n",
    "import pickle\n",
    "from pathlib import Path\n",
    "import sqlite3\n",
    "from tqdm import tqdm\n",
    "import random\n",
    "\n",
    "from utils.datasets.spider import load_tables"
   ]
  },
  {
   "cell_type": "code",
   "execution_count": 3,
   "metadata": {},
   "outputs": [],
   "source": [
    "\n",
    "# merge two training split of Spider\n",
    "spider_dir = \"dataset/spider\"\n",
    "split1 = \"train_spider.json\"\n",
    "split2 = \"train_others.json\"\n",
    "total_train = []\n",
    "for item in json.load(open(os.path.join(spider_dir, split1))):\n",
    "    total_train.append(item)\n",
    "for item in json.load(open(os.path.join(spider_dir, split2))):\n",
    "    total_train.append(item)\n",
    "with open(os.path.join(spider_dir, 'train_spider_and_others.json'), 'w') as f:\n",
    "    json.dump(total_train, f)\n",
    "\n",
    "# schema-linking between questions and databases for Spider\n",
    "spider_dev = \"dev.json\"\n",
    "spider_train = 'train_spider_and_others.json'\n",
    "spider_table = 'tables.json'\n",
    "spider_db = 'database'\n",
    "#schema_linking_producer(spider_dev, spider_train, spider_table, spider_db, spider_dir)"
   ]
  },
  {
   "cell_type": "code",
   "execution_count": 12,
   "metadata": {},
   "outputs": [],
   "source": [
    "# load data\n",
    "dataset_dir = spider_dir\n",
    "test = spider_dev\n",
    "train = spider_train\n",
    "table = spider_table\n",
    "db = spider_db\n",
    "\n",
    "test_data = json.load(open(os.path.join(dataset_dir, test)))\n",
    "train_data = json.load(open(os.path.join(dataset_dir, train)))\n",
    "\n",
    "# load schemas\n",
    "schemas, _ = load_tables([os.path.join(dataset_dir, table)])"
   ]
  },
  {
   "cell_type": "code",
   "execution_count": 21,
   "metadata": {},
   "outputs": [
    {
     "name": "stderr",
     "output_type": "stream",
     "text": [
      "DB connections: 100%|██████████| 166/166 [00:00<00:00, 233.84it/s]\n"
     ]
    }
   ],
   "source": [
    "#Backup in-memory copies of all the DBs and create the live connections\n",
    "for db_id, schema in tqdm(schemas.items(), desc=\"DB connections\"):\n",
    "    sqlite_path = Path(dataset_dir) / db / db_id / f\"{db_id}.sqlite\"\n",
    "    source: sqlite3.Connection\n",
    "    with sqlite3.connect(str(sqlite_path)) as source:\n",
    "        dest = sqlite3.connect(':memory:')\n",
    "        dest.row_factory = sqlite3.Row\n",
    "        source.backup(dest)\n",
    "    schema.connection = dest"
   ]
  },
  {
   "cell_type": "code",
   "execution_count": 41,
   "metadata": {},
   "outputs": [
    {
     "name": "stdout",
     "output_type": "stream",
     "text": [
      "CREATE TABLE \"author\" (\n",
      "\"aid\" int,\n",
      "\"homepage\" text,\n",
      "\"name\" text,\n",
      "\"oid\" int,\n",
      "primary key(\"aid\")\n",
      ")\n",
      "\n",
      "--------------------------------------------------\n",
      "\n",
      "CREATE TABLE \"conference\" (\n",
      "\"cid\" int,\n",
      "\"homepage\" text,\n",
      "\"name\" text,\n",
      "primary key (\"cid\")\n",
      ")\n",
      "\n",
      "--------------------------------------------------\n",
      "\n",
      "CREATE TABLE \"domain\" (\n",
      "\"did\" int,\n",
      "\"name\" text,\n",
      "primary key (\"did\")\n",
      ")\n",
      "\n",
      "--------------------------------------------------\n",
      "\n",
      "CREATE TABLE \"domain_author\" (\n",
      "\"aid\" int, \n",
      "\"did\" int,\n",
      "primary key (\"did\", \"aid\"),\n",
      "foreign key(\"aid\") references `author`(\"aid\"),\n",
      "foreign key(\"did\") references `domain`(\"did\")\n",
      ")\n",
      "\n",
      "--------------------------------------------------\n",
      "\n",
      "CREATE TABLE \"domain_conference\" (\n",
      "\"cid\" int,\n",
      "\"did\" int,\n",
      "primary key (\"did\", \"cid\"),\n",
      "foreign key(\"cid\") references `conference`(\"cid\"),\n",
      "foreign key(\"did\") references `domain`(\"did\")\n",
      ")\n",
      "\n",
      "--------------------------------------------------\n",
      "\n",
      "CREATE TABLE \"journal\" (\n",
      "\"homepage\" text,\n",
      "\"jid\" int,\n",
      "\"name\" text,\n",
      "primary key(\"jid\")\n",
      ")\n",
      "\n",
      "--------------------------------------------------\n",
      "\n",
      "CREATE TABLE \"domain_journal\" (\n",
      "\"did\" int,\n",
      "\"jid\" int,\n",
      "primary key (\"did\", \"jid\"),\n",
      "foreign key(\"jid\") references \"journal\"(\"jid\"),\n",
      "foreign key(\"did\") references \"domain\"(\"did\")\n",
      ")\n",
      "\n",
      "--------------------------------------------------\n",
      "\n",
      "CREATE TABLE \"keyword\" (\n",
      "\"keyword\" text,\n",
      "\"kid\" int,\n",
      "primary key(\"kid\")\n",
      ")\n",
      "\n",
      "--------------------------------------------------\n",
      "\n",
      "CREATE TABLE \"domain_keyword\" (\n",
      "\"did\" int,\n",
      "\"kid\" int,\n",
      "primary key (\"did\", \"kid\"),\n",
      "foreign key(\"kid\") references \"keyword\"(\"kid\"),\n",
      "foreign key(\"did\") references \"domain\"(\"did\")\n",
      ")\n",
      "\n",
      "--------------------------------------------------\n",
      "\n",
      "CREATE TABLE \"publication\" (\n",
      "\"abstract\" text,\n",
      "\"cid\" text,\n",
      "\"citation_num\" int,\n",
      "\"jid\" int,\n",
      "\"pid\" int,\n",
      "\"reference_num\" int,\n",
      "\"title\" text,\n",
      "\"year\" int,\n",
      "primary key(\"pid\"),\n",
      "foreign key(\"jid\") references \"journal\"(\"jid\"),\n",
      "foreign key(\"cid\") references \"conference\"(\"cid\")\n",
      ")\n",
      "\n",
      "--------------------------------------------------\n",
      "\n",
      "CREATE TABLE \"domain_publication\" (\n",
      "\"did\" int,\n",
      "\"pid\" int,\n",
      "primary key (\"did\", \"pid\"),\n",
      "foreign key(\"pid\") references \"publication\"(\"pid\"),\n",
      "foreign key(\"did\") references \"domain\"(\"did\")\n",
      ")\n",
      "\n",
      "--------------------------------------------------\n",
      "\n",
      "CREATE TABLE \"organization\" (\n",
      "\"continent\" text,\n",
      "\"homepage\" text,\n",
      "\"name\" text,\n",
      "\"oid\" int,\n",
      "primary key(\"oid\")\n",
      ")\n",
      "\n",
      "--------------------------------------------------\n",
      "\n",
      "CREATE TABLE \"publication_keyword\" (\n",
      "\"pid\" int,\n",
      "\"kid\" int,\n",
      "primary key (\"kid\", \"pid\"),\n",
      "foreign key(\"pid\") references \"publication\"(\"pid\"),\n",
      "foreign key(\"kid\") references \"keyword\"(\"kid\")\n",
      ")\n",
      "\n",
      "--------------------------------------------------\n",
      "\n",
      "CREATE TABLE \"writes\" (\n",
      "\"aid\" int,\n",
      "\"pid\" int,\n",
      "primary key (\"aid\", \"pid\"),\n",
      "foreign key(\"pid\") references \"publication\"(\"pid\"),\n",
      "foreign key(\"aid\") references \"author\"(\"aid\")\n",
      ")\n",
      "\n",
      "--------------------------------------------------\n",
      "\n",
      "CREATE TABLE \"cite\" (\n",
      "\"cited\" int,\n",
      "\"citing\"  int,\n",
      "foreign key(\"cited\") references \"publication\"(\"pid\"),\n",
      "foreign key(\"citing\") references \"publication\"(\"pid\")\n",
      ")\n",
      "\n",
      "--------------------------------------------------\n",
      "\n"
     ]
    }
   ],
   "source": [
    "db_id = \"academic\"  # or any other db_id from your schemas\n",
    "connection = schemas[db_id].connection\n",
    "cursor = connection.cursor()\n",
    "\n",
    "# Query sqlite_master table to get all CREATE statements\n",
    "cursor.execute(\"\"\"\n",
    "    SELECT sql \n",
    "    FROM sqlite_master \n",
    "    WHERE type='table' AND sql IS NOT NULL\n",
    "\"\"\")\n",
    "\n",
    "# Print each CREATE statement\n",
    "for (sql,) in cursor.fetchall():\n",
    "    print(sql)\n",
    "    print(\"\\n\" + \"-\"*50 + \"\\n\")"
   ]
  },
  {
   "cell_type": "code",
   "execution_count": 37,
   "metadata": {},
   "outputs": [],
   "source": [
    "# Example 1: Basic query for a specific database\n",
    "db_id = \"academic\"  # or any other db_id from your schemas\n",
    "connection = schemas[db_id].connection\n",
    "cursor = connection.cursor()\n",
    "\n",
    "# Execute a simple query\n",
    "cursor.execute(\"SELECT * FROM author LIMIT 2\")\n",
    "rows = cursor.fetchall()\n",
    "for row in rows:\n",
    "    # Since we set row_factory = sqlite3.Row, we can access by column name\n",
    "    print(f\"Singer ID: {row['homepage']}, Name: {row['aid']}\")"
   ]
  },
  {
   "cell_type": "code",
   "execution_count": 38,
   "metadata": {},
   "outputs": [
    {
     "data": {
      "text/plain": [
       "[]"
      ]
     },
     "execution_count": 38,
     "metadata": {},
     "output_type": "execute_result"
    }
   ],
   "source": [
    "rows"
   ]
  },
  {
   "cell_type": "code",
   "execution_count": 40,
   "metadata": {},
   "outputs": [
    {
     "data": {
      "text/plain": [
       "Schema(db_id='race_track', tables=(Table(id=0, name=['race'], unsplit_name='race', orig_name='race', columns=[Column(id=1, table=..., name=['race', 'id'], unsplit_name='race id', orig_name='Race_ID', type='number', foreign_key_for=None), Column(id=2, table=..., name=['name'], unsplit_name='name', orig_name='Name', type='text', foreign_key_for=None), Column(id=3, table=..., name=['class'], unsplit_name='class', orig_name='Class', type='text', foreign_key_for=None), Column(id=4, table=..., name=['date'], unsplit_name='date', orig_name='Date', type='text', foreign_key_for=None), Column(id=5, table=..., name=['track', 'id'], unsplit_name='track id', orig_name='Track_ID', type='text', foreign_key_for=Column(id=6, table=Table(id=1, name=['track'], unsplit_name='track', orig_name='track', columns=[..., Column(id=7, table=..., name=['name'], unsplit_name='name', orig_name='Name', type='text', foreign_key_for=None), Column(id=8, table=..., name=['location'], unsplit_name='location', orig_name='Location', type='text', foreign_key_for=None), Column(id=9, table=..., name=['seating'], unsplit_name='seating', orig_name='Seating', type='number', foreign_key_for=None), Column(id=10, table=..., name=['year', 'opened'], unsplit_name='year opened', orig_name='Year_Opened', type='number', foreign_key_for=None)], primary_keys=[...]), name=['track', 'id'], unsplit_name='track id', orig_name='Track_ID', type='number', foreign_key_for=None))], primary_keys=[Column(id=1, table=..., name=['race', 'id'], unsplit_name='race id', orig_name='Race_ID', type='number', foreign_key_for=None)]), Table(id=1, name=['track'], unsplit_name='track', orig_name='track', columns=[Column(id=6, table=..., name=['track', 'id'], unsplit_name='track id', orig_name='Track_ID', type='number', foreign_key_for=None), Column(id=7, table=..., name=['name'], unsplit_name='name', orig_name='Name', type='text', foreign_key_for=None), Column(id=8, table=..., name=['location'], unsplit_name='location', orig_name='Location', type='text', foreign_key_for=None), Column(id=9, table=..., name=['seating'], unsplit_name='seating', orig_name='Seating', type='number', foreign_key_for=None), Column(id=10, table=..., name=['year', 'opened'], unsplit_name='year opened', orig_name='Year_Opened', type='number', foreign_key_for=None)], primary_keys=[Column(id=6, table=..., name=['track', 'id'], unsplit_name='track id', orig_name='Track_ID', type='number', foreign_key_for=None)])), columns=(Column(id=0, table=None, name=['*'], unsplit_name='*', orig_name='*', type='text', foreign_key_for=None), Column(id=1, table=Table(id=0, name=['race'], unsplit_name='race', orig_name='race', columns=[..., Column(id=2, table=..., name=['name'], unsplit_name='name', orig_name='Name', type='text', foreign_key_for=None), Column(id=3, table=..., name=['class'], unsplit_name='class', orig_name='Class', type='text', foreign_key_for=None), Column(id=4, table=..., name=['date'], unsplit_name='date', orig_name='Date', type='text', foreign_key_for=None), Column(id=5, table=..., name=['track', 'id'], unsplit_name='track id', orig_name='Track_ID', type='text', foreign_key_for=Column(id=6, table=Table(id=1, name=['track'], unsplit_name='track', orig_name='track', columns=[..., Column(id=7, table=..., name=['name'], unsplit_name='name', orig_name='Name', type='text', foreign_key_for=None), Column(id=8, table=..., name=['location'], unsplit_name='location', orig_name='Location', type='text', foreign_key_for=None), Column(id=9, table=..., name=['seating'], unsplit_name='seating', orig_name='Seating', type='number', foreign_key_for=None), Column(id=10, table=..., name=['year', 'opened'], unsplit_name='year opened', orig_name='Year_Opened', type='number', foreign_key_for=None)], primary_keys=[...]), name=['track', 'id'], unsplit_name='track id', orig_name='Track_ID', type='number', foreign_key_for=None))], primary_keys=[...]), name=['race', 'id'], unsplit_name='race id', orig_name='Race_ID', type='number', foreign_key_for=None), Column(id=2, table=Table(id=0, name=['race'], unsplit_name='race', orig_name='race', columns=[Column(id=1, table=..., name=['race', 'id'], unsplit_name='race id', orig_name='Race_ID', type='number', foreign_key_for=None), ..., Column(id=3, table=..., name=['class'], unsplit_name='class', orig_name='Class', type='text', foreign_key_for=None), Column(id=4, table=..., name=['date'], unsplit_name='date', orig_name='Date', type='text', foreign_key_for=None), Column(id=5, table=..., name=['track', 'id'], unsplit_name='track id', orig_name='Track_ID', type='text', foreign_key_for=Column(id=6, table=Table(id=1, name=['track'], unsplit_name='track', orig_name='track', columns=[..., Column(id=7, table=..., name=['name'], unsplit_name='name', orig_name='Name', type='text', foreign_key_for=None), Column(id=8, table=..., name=['location'], unsplit_name='location', orig_name='Location', type='text', foreign_key_for=None), Column(id=9, table=..., name=['seating'], unsplit_name='seating', orig_name='Seating', type='number', foreign_key_for=None), Column(id=10, table=..., name=['year', 'opened'], unsplit_name='year opened', orig_name='Year_Opened', type='number', foreign_key_for=None)], primary_keys=[...]), name=['track', 'id'], unsplit_name='track id', orig_name='Track_ID', type='number', foreign_key_for=None))], primary_keys=[Column(id=1, table=..., name=['race', 'id'], unsplit_name='race id', orig_name='Race_ID', type='number', foreign_key_for=None)]), name=['name'], unsplit_name='name', orig_name='Name', type='text', foreign_key_for=None), Column(id=3, table=Table(id=0, name=['race'], unsplit_name='race', orig_name='race', columns=[Column(id=1, table=..., name=['race', 'id'], unsplit_name='race id', orig_name='Race_ID', type='number', foreign_key_for=None), Column(id=2, table=..., name=['name'], unsplit_name='name', orig_name='Name', type='text', foreign_key_for=None), ..., Column(id=4, table=..., name=['date'], unsplit_name='date', orig_name='Date', type='text', foreign_key_for=None), Column(id=5, table=..., name=['track', 'id'], unsplit_name='track id', orig_name='Track_ID', type='text', foreign_key_for=Column(id=6, table=Table(id=1, name=['track'], unsplit_name='track', orig_name='track', columns=[..., Column(id=7, table=..., name=['name'], unsplit_name='name', orig_name='Name', type='text', foreign_key_for=None), Column(id=8, table=..., name=['location'], unsplit_name='location', orig_name='Location', type='text', foreign_key_for=None), Column(id=9, table=..., name=['seating'], unsplit_name='seating', orig_name='Seating', type='number', foreign_key_for=None), Column(id=10, table=..., name=['year', 'opened'], unsplit_name='year opened', orig_name='Year_Opened', type='number', foreign_key_for=None)], primary_keys=[...]), name=['track', 'id'], unsplit_name='track id', orig_name='Track_ID', type='number', foreign_key_for=None))], primary_keys=[Column(id=1, table=..., name=['race', 'id'], unsplit_name='race id', orig_name='Race_ID', type='number', foreign_key_for=None)]), name=['class'], unsplit_name='class', orig_name='Class', type='text', foreign_key_for=None), Column(id=4, table=Table(id=0, name=['race'], unsplit_name='race', orig_name='race', columns=[Column(id=1, table=..., name=['race', 'id'], unsplit_name='race id', orig_name='Race_ID', type='number', foreign_key_for=None), Column(id=2, table=..., name=['name'], unsplit_name='name', orig_name='Name', type='text', foreign_key_for=None), Column(id=3, table=..., name=['class'], unsplit_name='class', orig_name='Class', type='text', foreign_key_for=None), ..., Column(id=5, table=..., name=['track', 'id'], unsplit_name='track id', orig_name='Track_ID', type='text', foreign_key_for=Column(id=6, table=Table(id=1, name=['track'], unsplit_name='track', orig_name='track', columns=[..., Column(id=7, table=..., name=['name'], unsplit_name='name', orig_name='Name', type='text', foreign_key_for=None), Column(id=8, table=..., name=['location'], unsplit_name='location', orig_name='Location', type='text', foreign_key_for=None), Column(id=9, table=..., name=['seating'], unsplit_name='seating', orig_name='Seating', type='number', foreign_key_for=None), Column(id=10, table=..., name=['year', 'opened'], unsplit_name='year opened', orig_name='Year_Opened', type='number', foreign_key_for=None)], primary_keys=[...]), name=['track', 'id'], unsplit_name='track id', orig_name='Track_ID', type='number', foreign_key_for=None))], primary_keys=[Column(id=1, table=..., name=['race', 'id'], unsplit_name='race id', orig_name='Race_ID', type='number', foreign_key_for=None)]), name=['date'], unsplit_name='date', orig_name='Date', type='text', foreign_key_for=None), Column(id=5, table=Table(id=0, name=['race'], unsplit_name='race', orig_name='race', columns=[Column(id=1, table=..., name=['race', 'id'], unsplit_name='race id', orig_name='Race_ID', type='number', foreign_key_for=None), Column(id=2, table=..., name=['name'], unsplit_name='name', orig_name='Name', type='text', foreign_key_for=None), Column(id=3, table=..., name=['class'], unsplit_name='class', orig_name='Class', type='text', foreign_key_for=None), Column(id=4, table=..., name=['date'], unsplit_name='date', orig_name='Date', type='text', foreign_key_for=None), ...], primary_keys=[Column(id=1, table=..., name=['race', 'id'], unsplit_name='race id', orig_name='Race_ID', type='number', foreign_key_for=None)]), name=['track', 'id'], unsplit_name='track id', orig_name='Track_ID', type='text', foreign_key_for=Column(id=6, table=Table(id=1, name=['track'], unsplit_name='track', orig_name='track', columns=[..., Column(id=7, table=..., name=['name'], unsplit_name='name', orig_name='Name', type='text', foreign_key_for=None), Column(id=8, table=..., name=['location'], unsplit_name='location', orig_name='Location', type='text', foreign_key_for=None), Column(id=9, table=..., name=['seating'], unsplit_name='seating', orig_name='Seating', type='number', foreign_key_for=None), Column(id=10, table=..., name=['year', 'opened'], unsplit_name='year opened', orig_name='Year_Opened', type='number', foreign_key_for=None)], primary_keys=[...]), name=['track', 'id'], unsplit_name='track id', orig_name='Track_ID', type='number', foreign_key_for=None)), Column(id=6, table=Table(id=1, name=['track'], unsplit_name='track', orig_name='track', columns=[..., Column(id=7, table=..., name=['name'], unsplit_name='name', orig_name='Name', type='text', foreign_key_for=None), Column(id=8, table=..., name=['location'], unsplit_name='location', orig_name='Location', type='text', foreign_key_for=None), Column(id=9, table=..., name=['seating'], unsplit_name='seating', orig_name='Seating', type='number', foreign_key_for=None), Column(id=10, table=..., name=['year', 'opened'], unsplit_name='year opened', orig_name='Year_Opened', type='number', foreign_key_for=None)], primary_keys=[...]), name=['track', 'id'], unsplit_name='track id', orig_name='Track_ID', type='number', foreign_key_for=None), Column(id=7, table=Table(id=1, name=['track'], unsplit_name='track', orig_name='track', columns=[Column(id=6, table=..., name=['track', 'id'], unsplit_name='track id', orig_name='Track_ID', type='number', foreign_key_for=None), ..., Column(id=8, table=..., name=['location'], unsplit_name='location', orig_name='Location', type='text', foreign_key_for=None), Column(id=9, table=..., name=['seating'], unsplit_name='seating', orig_name='Seating', type='number', foreign_key_for=None), Column(id=10, table=..., name=['year', 'opened'], unsplit_name='year opened', orig_name='Year_Opened', type='number', foreign_key_for=None)], primary_keys=[Column(id=6, table=..., name=['track', 'id'], unsplit_name='track id', orig_name='Track_ID', type='number', foreign_key_for=None)]), name=['name'], unsplit_name='name', orig_name='Name', type='text', foreign_key_for=None), Column(id=8, table=Table(id=1, name=['track'], unsplit_name='track', orig_name='track', columns=[Column(id=6, table=..., name=['track', 'id'], unsplit_name='track id', orig_name='Track_ID', type='number', foreign_key_for=None), Column(id=7, table=..., name=['name'], unsplit_name='name', orig_name='Name', type='text', foreign_key_for=None), ..., Column(id=9, table=..., name=['seating'], unsplit_name='seating', orig_name='Seating', type='number', foreign_key_for=None), Column(id=10, table=..., name=['year', 'opened'], unsplit_name='year opened', orig_name='Year_Opened', type='number', foreign_key_for=None)], primary_keys=[Column(id=6, table=..., name=['track', 'id'], unsplit_name='track id', orig_name='Track_ID', type='number', foreign_key_for=None)]), name=['location'], unsplit_name='location', orig_name='Location', type='text', foreign_key_for=None), Column(id=9, table=Table(id=1, name=['track'], unsplit_name='track', orig_name='track', columns=[Column(id=6, table=..., name=['track', 'id'], unsplit_name='track id', orig_name='Track_ID', type='number', foreign_key_for=None), Column(id=7, table=..., name=['name'], unsplit_name='name', orig_name='Name', type='text', foreign_key_for=None), Column(id=8, table=..., name=['location'], unsplit_name='location', orig_name='Location', type='text', foreign_key_for=None), ..., Column(id=10, table=..., name=['year', 'opened'], unsplit_name='year opened', orig_name='Year_Opened', type='number', foreign_key_for=None)], primary_keys=[Column(id=6, table=..., name=['track', 'id'], unsplit_name='track id', orig_name='Track_ID', type='number', foreign_key_for=None)]), name=['seating'], unsplit_name='seating', orig_name='Seating', type='number', foreign_key_for=None), Column(id=10, table=Table(id=1, name=['track'], unsplit_name='track', orig_name='track', columns=[Column(id=6, table=..., name=['track', 'id'], unsplit_name='track id', orig_name='Track_ID', type='number', foreign_key_for=None), Column(id=7, table=..., name=['name'], unsplit_name='name', orig_name='Name', type='text', foreign_key_for=None), Column(id=8, table=..., name=['location'], unsplit_name='location', orig_name='Location', type='text', foreign_key_for=None), Column(id=9, table=..., name=['seating'], unsplit_name='seating', orig_name='Seating', type='number', foreign_key_for=None), ...], primary_keys=[Column(id=6, table=..., name=['track', 'id'], unsplit_name='track id', orig_name='Track_ID', type='number', foreign_key_for=None)]), name=['year', 'opened'], unsplit_name='year opened', orig_name='Year_Opened', type='number', foreign_key_for=None)), foreign_key_graph=<networkx.classes.digraph.DiGraph object at 0x0000016768CBE3D0>, orig={'column_names': [[-1, '*'], [0, 'race id'], [0, 'name'], [0, 'class'], [0, 'date'], [0, 'track id'], [1, 'track id'], [1, 'name'], [1, 'location'], [1, 'seating'], [1, 'year opened']], 'column_names_original': [[-1, '*'], [0, 'Race_ID'], [0, 'Name'], [0, 'Class'], [0, 'Date'], [0, 'Track_ID'], [1, 'Track_ID'], [1, 'Name'], [1, 'Location'], [1, 'Seating'], [1, 'Year_Opened']], 'column_types': ['text', 'number', 'text', 'text', 'text', 'text', 'number', 'text', 'text', 'number', 'number'], 'db_id': 'race_track', 'foreign_keys': [[5, 6]], 'primary_keys': [1, 6], 'table_names': ['race', 'track'], 'table_names_original': ['race', 'track']}, connection=<sqlite3.Connection object at 0x000001676BB976C0>)"
      ]
     },
     "execution_count": 40,
     "metadata": {},
     "output_type": "execute_result"
    }
   ],
   "source": [
    "schemas[\"race_track\"]"
   ]
  },
  {
   "cell_type": "code",
   "execution_count": null,
   "metadata": {},
   "outputs": [],
   "source": []
  }
 ],
 "metadata": {
  "kernelspec": {
   "display_name": "texttosql",
   "language": "python",
   "name": "python3"
  },
  "language_info": {
   "codemirror_mode": {
    "name": "ipython",
    "version": 3
   },
   "file_extension": ".py",
   "mimetype": "text/x-python",
   "name": "python",
   "nbconvert_exporter": "python",
   "pygments_lexer": "ipython3",
   "version": "3.8.20"
  }
 },
 "nbformat": 4,
 "nbformat_minor": 2
}
